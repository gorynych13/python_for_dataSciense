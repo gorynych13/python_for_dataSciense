{
 "cells": [
  {
   "cell_type": "code",
   "execution_count": 1,
   "metadata": {},
   "outputs": [],
   "source": [
    "import numpy as np\n",
    "import pandas as pd"
   ]
  },
  {
   "cell_type": "code",
   "execution_count": 2,
   "metadata": {},
   "outputs": [],
   "source": [
    "train = pd.read_csv('train.csv')"
   ]
  },
  {
   "cell_type": "code",
   "execution_count": 3,
   "metadata": {},
   "outputs": [],
   "source": [
    "train = train.loc[train['Rooms'].between(1, 9), :]\n",
    "train = train.loc[train['Square'] < 350, :]\n",
    "train = train.loc[train['Price'].between(30000, 600000), :]"
   ]
  },
  {
   "cell_type": "code",
   "execution_count": 4,
   "metadata": {},
   "outputs": [],
   "source": [
    "train.loc[train['Square'] < train['LifeSquare'], 'Square'] = train['LifeSquare'] \n",
    "train2 = train.copy()"
   ]
  },
  {
   "cell_type": "code",
   "execution_count": 5,
   "metadata": {},
   "outputs": [],
   "source": [
    "# DataFrame средних значение по district and Rooms\n",
    "def mean_col(column, new):\n",
    "    mean_col = train.groupby(['DistrictId', 'Rooms'])[column].mean().reset_index()\n",
    "    mean_col = mean_col.rename(columns={column[0]: new})\n",
    "    return mean_col"
   ]
  },
  {
   "cell_type": "code",
   "execution_count": 6,
   "metadata": {},
   "outputs": [],
   "source": [
    "# DataFrame средних значение по district and Rooms\n",
    "def median_col(column, new):\n",
    "    mean_col = train.groupby(['DistrictId', 'Rooms'])[column].median().reset_index()\n",
    "    mean_col = mean_col.rename(columns={column[0]: new})\n",
    "    return mean_col"
   ]
  },
  {
   "cell_type": "code",
   "execution_count": 7,
   "metadata": {},
   "outputs": [],
   "source": [
    "# Слияние основного датафрейма и датафрейма средних значений датафрейма\n",
    "def merge_mean(df, mean_df, howw):\n",
    "    return pd.merge(df, mean_df, on=['DistrictId', 'Rooms'], how=howw)"
   ]
  },
  {
   "cell_type": "code",
   "execution_count": 8,
   "metadata": {},
   "outputs": [],
   "source": [
    "mean_kitchen_sq = median_col(['KitchenSquare'], 'MeanKitchen')\n",
    "mean_square = mean_col(['Square'], 'MeanSquare')\n",
    "mean_life_sq = mean_col(['LifeSquare'], 'MeanLifeSquare')\n",
    "mean_price = mean_col(['Price'], 'MeanPrice')\n",
    "train2 = merge_mean(train2, mean_kitchen_sq, 'inner')\n",
    "train2 = merge_mean(train2, mean_square, 'inner')\n",
    "train2 = merge_mean(train2, mean_life_sq, 'inner')\n",
    "train2 = merge_mean(train2, mean_price, 'inner')"
   ]
  },
  {
   "cell_type": "code",
   "execution_count": 9,
   "metadata": {},
   "outputs": [
    {
     "name": "stdout",
     "output_type": "stream",
     "text": [
      "<class 'pandas.core.frame.DataFrame'>\n",
      "Int64Index: 9966 entries, 0 to 9965\n",
      "Data columns (total 24 columns):\n",
      "Id                9966 non-null int64\n",
      "DistrictId        9966 non-null int64\n",
      "Rooms             9966 non-null float64\n",
      "Square            9966 non-null float64\n",
      "LifeSquare        7860 non-null float64\n",
      "KitchenSquare     9966 non-null float64\n",
      "Floor             9966 non-null int64\n",
      "HouseFloor        9966 non-null float64\n",
      "HouseYear         9966 non-null int64\n",
      "Ecology_1         9966 non-null float64\n",
      "Ecology_2         9966 non-null object\n",
      "Ecology_3         9966 non-null object\n",
      "Social_1          9966 non-null int64\n",
      "Social_2          9966 non-null int64\n",
      "Social_3          9966 non-null int64\n",
      "Healthcare_1      5180 non-null float64\n",
      "Helthcare_2       9966 non-null int64\n",
      "Shops_1           9966 non-null int64\n",
      "Shops_2           9966 non-null object\n",
      "Price             9966 non-null float64\n",
      "MeanKitchen       9966 non-null float64\n",
      "MeanSquare        9966 non-null float64\n",
      "MeanLifeSquare    9964 non-null float64\n",
      "MeanPrice         9966 non-null float64\n",
      "dtypes: float64(12), int64(9), object(3)\n",
      "memory usage: 1.9+ MB\n"
     ]
    }
   ],
   "source": [
    "train2.info()"
   ]
  },
  {
   "cell_type": "code",
   "execution_count": 10,
   "metadata": {},
   "outputs": [],
   "source": [
    "train2['S/LS'] = train2['Square'] / train2['LifeSquare']\n",
    "sls = train2.loc[(train2['S/LS'] > 1.2) & (train2['S/LS'] < 2), 'S/LS'].mean()\n",
    "train2['LifeSquare'] = train2['LifeSquare'].fillna(train2['Square'] / sls)"
   ]
  },
  {
   "cell_type": "code",
   "execution_count": 11,
   "metadata": {},
   "outputs": [],
   "source": [
    "train2.loc[train2['MeanLifeSquare'].isnull(), 'MeanLifeSquare'] = train2['LifeSquare']"
   ]
  },
  {
   "cell_type": "code",
   "execution_count": 12,
   "metadata": {},
   "outputs": [],
   "source": [
    "train2.loc[train2['KitchenSquare'] > 30, 'KitchenSquare'] = train2['MeanKitchen'].median()\n",
    "train2.loc[train2['KitchenSquare'] < 3, 'KitchenSquare'] = train2['MeanKitchen'].median()"
   ]
  },
  {
   "cell_type": "code",
   "execution_count": 13,
   "metadata": {},
   "outputs": [
    {
     "name": "stdout",
     "output_type": "stream",
     "text": [
      "<class 'pandas.core.frame.DataFrame'>\n",
      "Int64Index: 9966 entries, 0 to 9965\n",
      "Data columns (total 25 columns):\n",
      "Id                9966 non-null int64\n",
      "DistrictId        9966 non-null int64\n",
      "Rooms             9966 non-null float64\n",
      "Square            9966 non-null float64\n",
      "LifeSquare        9966 non-null float64\n",
      "KitchenSquare     9966 non-null float64\n",
      "Floor             9966 non-null int64\n",
      "HouseFloor        9966 non-null float64\n",
      "HouseYear         9966 non-null int64\n",
      "Ecology_1         9966 non-null float64\n",
      "Ecology_2         9966 non-null object\n",
      "Ecology_3         9966 non-null object\n",
      "Social_1          9966 non-null int64\n",
      "Social_2          9966 non-null int64\n",
      "Social_3          9966 non-null int64\n",
      "Healthcare_1      5180 non-null float64\n",
      "Helthcare_2       9966 non-null int64\n",
      "Shops_1           9966 non-null int64\n",
      "Shops_2           9966 non-null object\n",
      "Price             9966 non-null float64\n",
      "MeanKitchen       9966 non-null float64\n",
      "MeanSquare        9966 non-null float64\n",
      "MeanLifeSquare    9966 non-null float64\n",
      "MeanPrice         9966 non-null float64\n",
      "S/LS              7860 non-null float64\n",
      "dtypes: float64(13), int64(9), object(3)\n",
      "memory usage: 2.3+ MB\n"
     ]
    }
   ],
   "source": [
    "train2.info()"
   ]
  },
  {
   "cell_type": "code",
   "execution_count": 14,
   "metadata": {},
   "outputs": [],
   "source": [
    "train2['Ecology_2'] = (train2['Ecology_2'] == 'A').astype(int)\n",
    "train2['Ecology_3'] = (train2['Ecology_3'] == 'A').astype(int)\n",
    "train2['Shops_2'] = (train2['Shops_2'] == 'A').astype(int)"
   ]
  },
  {
   "cell_type": "code",
   "execution_count": 15,
   "metadata": {
    "scrolled": true
   },
   "outputs": [
    {
     "data": {
      "text/plain": [
       "Index(['Id', 'DistrictId', 'Rooms', 'Square', 'LifeSquare', 'KitchenSquare',\n",
       "       'Floor', 'HouseFloor', 'HouseYear', 'Ecology_1', 'Ecology_2',\n",
       "       'Ecology_3', 'Social_1', 'Social_2', 'Social_3', 'Healthcare_1',\n",
       "       'Helthcare_2', 'Shops_1', 'Shops_2', 'Price', 'MeanKitchen',\n",
       "       'MeanSquare', 'MeanLifeSquare', 'MeanPrice', 'S/LS'],\n",
       "      dtype='object')"
      ]
     },
     "execution_count": 15,
     "metadata": {},
     "output_type": "execute_result"
    }
   ],
   "source": [
    "train2.columns"
   ]
  },
  {
   "cell_type": "code",
   "execution_count": 16,
   "metadata": {},
   "outputs": [],
   "source": [
    "columns = ['Rooms', 'Square', 'LifeSquare', 'KitchenSquare',\n",
    "       'Floor', 'HouseFloor', 'HouseYear', 'Ecology_1', 'Social_1', 'Social_2', 'Social_3',\n",
    "       'Helthcare_2', 'Shops_1', 'MeanKitchen',\n",
    "       'MeanSquare', 'MeanLifeSquare']"
   ]
  },
  {
   "cell_type": "code",
   "execution_count": 17,
   "metadata": {},
   "outputs": [
    {
     "name": "stdout",
     "output_type": "stream",
     "text": [
      "<class 'pandas.core.frame.DataFrame'>\n",
      "Int64Index: 9966 entries, 0 to 9965\n",
      "Data columns (total 16 columns):\n",
      "Rooms             9966 non-null float64\n",
      "Square            9966 non-null float64\n",
      "LifeSquare        9966 non-null float64\n",
      "KitchenSquare     9966 non-null float64\n",
      "Floor             9966 non-null int64\n",
      "HouseFloor        9966 non-null float64\n",
      "HouseYear         9966 non-null int64\n",
      "Ecology_1         9966 non-null float64\n",
      "Social_1          9966 non-null int64\n",
      "Social_2          9966 non-null int64\n",
      "Social_3          9966 non-null int64\n",
      "Helthcare_2       9966 non-null int64\n",
      "Shops_1           9966 non-null int64\n",
      "MeanKitchen       9966 non-null float64\n",
      "MeanSquare        9966 non-null float64\n",
      "MeanLifeSquare    9966 non-null float64\n",
      "dtypes: float64(9), int64(7)\n",
      "memory usage: 1.6 MB\n"
     ]
    }
   ],
   "source": [
    "X = train2[columns]\n",
    "X.info()"
   ]
  },
  {
   "cell_type": "code",
   "execution_count": 18,
   "metadata": {},
   "outputs": [],
   "source": [
    "y = train2['Price']"
   ]
  },
  {
   "cell_type": "code",
   "execution_count": 19,
   "metadata": {},
   "outputs": [],
   "source": [
    "from sklearn.model_selection import train_test_split"
   ]
  },
  {
   "cell_type": "code",
   "execution_count": 20,
   "metadata": {},
   "outputs": [],
   "source": [
    "data_train, data_valid, price_train, price_valid = train_test_split(X, y, test_size = 0.3, random_state=42)"
   ]
  },
  {
   "cell_type": "code",
   "execution_count": 21,
   "metadata": {},
   "outputs": [],
   "source": [
    "from sklearn.ensemble import RandomForestRegressor\n",
    "model_forest = RandomForestRegressor(n_estimators=1000, max_features = 11, max_depth = 16, random_state=42)"
   ]
  },
  {
   "cell_type": "code",
   "execution_count": 22,
   "metadata": {},
   "outputs": [],
   "source": [
    "price_arr_train = price_train.values[:]"
   ]
  },
  {
   "cell_type": "code",
   "execution_count": 23,
   "metadata": {},
   "outputs": [
    {
     "data": {
      "text/plain": [
       "RandomForestRegressor(bootstrap=True, criterion='mse', max_depth=16,\n",
       "           max_features=11, max_leaf_nodes=None, min_impurity_decrease=0.0,\n",
       "           min_impurity_split=None, min_samples_leaf=1,\n",
       "           min_samples_split=2, min_weight_fraction_leaf=0.0,\n",
       "           n_estimators=1000, n_jobs=None, oob_score=False,\n",
       "           random_state=42, verbose=0, warm_start=False)"
      ]
     },
     "execution_count": 23,
     "metadata": {},
     "output_type": "execute_result"
    }
   ],
   "source": [
    "model_forest.fit(data_train, price_arr_train)"
   ]
  },
  {
   "cell_type": "code",
   "execution_count": 24,
   "metadata": {},
   "outputs": [],
   "source": [
    "pred_train = model_forest.predict(data_train)"
   ]
  },
  {
   "cell_type": "code",
   "execution_count": 25,
   "metadata": {},
   "outputs": [],
   "source": [
    "from sklearn.metrics import r2_score"
   ]
  },
  {
   "cell_type": "code",
   "execution_count": 26,
   "metadata": {},
   "outputs": [
    {
     "data": {
      "text/plain": [
       "0.9490878993284346"
      ]
     },
     "execution_count": 26,
     "metadata": {},
     "output_type": "execute_result"
    }
   ],
   "source": [
    "r2_score(price_train, pred_train)"
   ]
  },
  {
   "cell_type": "code",
   "execution_count": null,
   "metadata": {},
   "outputs": [],
   "source": [
    "pred_forest = model_forest.predict(data_valid)"
   ]
  },
  {
   "cell_type": "code",
   "execution_count": null,
   "metadata": {},
   "outputs": [
    {
     "data": {
      "text/plain": [
       "0.7413338685539304"
      ]
     },
     "execution_count": 28,
     "metadata": {},
     "output_type": "execute_result"
    }
   ],
   "source": [
    "r2_score(price_valid, pred_forest)"
   ]
  },
  {
   "cell_type": "code",
   "execution_count": null,
   "metadata": {},
   "outputs": [
    {
     "data": {
      "text/plain": [
       "array([0.08220445, 0.31015439, 0.03697555, 0.0274236 , 0.02799704,\n",
       "       0.02338081, 0.03742123, 0.04082642, 0.07222618, 0.07888375,\n",
       "       0.05614392, 0.00884203, 0.01622445, 0.05846395, 0.08635789,\n",
       "       0.03647433])"
      ]
     },
     "execution_count": 29,
     "metadata": {},
     "output_type": "execute_result"
    }
   ],
   "source": [
    "model_forest.feature_importances_"
   ]
  },
  {
   "cell_type": "code",
   "execution_count": null,
   "metadata": {},
   "outputs": [],
   "source": [
    "from sklearn.model_selection import GridSearchCV"
   ]
  },
  {
   "cell_type": "code",
   "execution_count": null,
   "metadata": {},
   "outputs": [],
   "source": [
    "parameters = [{'n_estimators': [1000], \n",
    "               'max_features': np.arange(11, 12),\n",
    "               'max_depth': np.arange(16, 17)}]"
   ]
  },
  {
   "cell_type": "code",
   "execution_count": null,
   "metadata": {},
   "outputs": [],
   "source": [
    "clf = GridSearchCV(estimator=RandomForestRegressor(random_state=42), \n",
    "                   param_grid=parameters,\n",
    "                   scoring='r2',\n",
    "                   cv=5)"
   ]
  },
  {
   "cell_type": "code",
   "execution_count": null,
   "metadata": {},
   "outputs": [],
   "source": [
    "clf.fit(data_train, price_arr_train)"
   ]
  },
  {
   "cell_type": "code",
   "execution_count": null,
   "metadata": {},
   "outputs": [],
   "source": [
    "pred_grid = clf.predict(data_valid)\n",
    "r2_score(price_valid, pred_grid)"
   ]
  },
  {
   "cell_type": "code",
   "execution_count": null,
   "metadata": {},
   "outputs": [],
   "source": [
    "clf.best_params_"
   ]
  },
  {
   "cell_type": "code",
   "execution_count": null,
   "metadata": {},
   "outputs": [],
   "source": [
    "means = clf.cv_results_['mean_test_score']\n",
    "stds = clf.cv_results_['std_test_score']\n",
    "\n",
    "for mean, std, params in zip(means, stds, clf.cv_results_['params']):\n",
    "        print(\"%0.3f (+/-%0.03f) for %r\" % (mean, std * 2, params))"
   ]
  },
  {
   "cell_type": "code",
   "execution_count": null,
   "metadata": {},
   "outputs": [],
   "source": [
    "test = pd.read_csv('test.csv')\n",
    "test.head(20)"
   ]
  },
  {
   "cell_type": "code",
   "execution_count": null,
   "metadata": {},
   "outputs": [],
   "source": [
    "test.info()"
   ]
  },
  {
   "cell_type": "code",
   "execution_count": null,
   "metadata": {},
   "outputs": [],
   "source": [
    "test2 = test.copy()"
   ]
  },
  {
   "cell_type": "code",
   "execution_count": null,
   "metadata": {},
   "outputs": [],
   "source": [
    "test2 = merge_mean(test2, mean_kitchen_sq, 'outer')\n",
    "test2 = merge_mean(test2, mean_square, 'outer')\n",
    "test2 = merge_mean(test2, mean_life_sq, 'outer')\n",
    "test2 = merge_mean(test2, mean_price, 'outer')\n",
    "test2 = test2.loc[test2['Id'].notnull()]"
   ]
  },
  {
   "cell_type": "code",
   "execution_count": null,
   "metadata": {},
   "outputs": [],
   "source": [
    "test2.info()"
   ]
  },
  {
   "cell_type": "code",
   "execution_count": null,
   "metadata": {},
   "outputs": [],
   "source": [
    "test2.loc[(test2['Rooms'] == 0) | (test2['Rooms'] > 4), :] "
   ]
  },
  {
   "cell_type": "code",
   "execution_count": null,
   "metadata": {},
   "outputs": [],
   "source": [
    "test2.loc[test2['Rooms'] == 17.0, 'Rooms'] = 1.0\n",
    "test2.loc[test2['Rooms'] == 0.0, 'Rooms'] = 2.0"
   ]
  },
  {
   "cell_type": "code",
   "execution_count": null,
   "metadata": {},
   "outputs": [],
   "source": [
    "test2['LifeSquare'] = test2['LifeSquare'].fillna(test2['Square'] / sls)\n",
    "test2.info()"
   ]
  },
  {
   "cell_type": "code",
   "execution_count": null,
   "metadata": {},
   "outputs": [],
   "source": [
    "test2.loc[test2['MeanLifeSquare'].isnull(), 'MeanLifeSquare'] = test2['LifeSquare']\n",
    "test2.loc[test2['MeanSquare'].isnull(), 'MeanSquare'] = test2['Square']\n",
    "test2.loc[test2['MeanKitchen'].isnull(), 'MeanKitchen'] = test2['KitchenSquare']\n",
    "test2.loc[test2['MeanPrice'].isnull(), 'MeanPrice'] = test2['MeanPrice'].mean()"
   ]
  },
  {
   "cell_type": "code",
   "execution_count": null,
   "metadata": {},
   "outputs": [],
   "source": [
    "test2['Id'] = test2['Id'].astype('int')\n",
    "test2['HouseYear'] = test2['HouseYear'].astype('int')\n",
    "test2['Social_1'] = test2['Social_1'].astype('int')\n",
    "test2['Social_2'] = test2['Social_2'].astype('int')\n",
    "test2['Social_3'] = test2['Social_3'].astype('int')\n",
    "test2.info()"
   ]
  },
  {
   "cell_type": "code",
   "execution_count": null,
   "metadata": {},
   "outputs": [],
   "source": [
    "test_pred = test2[columns]\n",
    "test2.head()"
   ]
  },
  {
   "cell_type": "code",
   "execution_count": null,
   "metadata": {},
   "outputs": [],
   "source": [
    "test_pred.info()"
   ]
  },
  {
   "cell_type": "code",
   "execution_count": null,
   "metadata": {},
   "outputs": [],
   "source": [
    "test2['Price'] = model_forest.predict(test_pred)"
   ]
  },
  {
   "cell_type": "code",
   "execution_count": null,
   "metadata": {},
   "outputs": [],
   "source": [
    "test2.to_csv('INeznanov', columns=['Id', 'Price'], index=False)"
   ]
  },
  {
   "cell_type": "code",
   "execution_count": null,
   "metadata": {},
   "outputs": [],
   "source": []
  },
  {
   "cell_type": "code",
   "execution_count": null,
   "metadata": {},
   "outputs": [],
   "source": []
  },
  {
   "cell_type": "code",
   "execution_count": null,
   "metadata": {},
   "outputs": [],
   "source": []
  },
  {
   "cell_type": "code",
   "execution_count": null,
   "metadata": {},
   "outputs": [],
   "source": []
  },
  {
   "cell_type": "code",
   "execution_count": null,
   "metadata": {},
   "outputs": [],
   "source": []
  }
 ],
 "metadata": {
  "kernelspec": {
   "display_name": "Python 3",
   "language": "python",
   "name": "python3"
  },
  "language_info": {
   "codemirror_mode": {
    "name": "ipython",
    "version": 3
   },
   "file_extension": ".py",
   "mimetype": "text/x-python",
   "name": "python",
   "nbconvert_exporter": "python",
   "pygments_lexer": "ipython3",
   "version": "3.7.1"
  }
 },
 "nbformat": 4,
 "nbformat_minor": 2
}
